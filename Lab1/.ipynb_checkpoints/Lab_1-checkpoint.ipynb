{
 "cells": [
  {
   "cell_type": "markdown",
   "metadata": {
    "colab_type": "text",
    "id": "u9rBYuqkfFZi"
   },
   "source": [
    "## Introduction to Numerical Computing with Numpy and Matplotlib\n",
    "\n",
    "### What is Matplotlib\n",
    "\n",
    "Matplotlib is a Python 2D plotting library which produces publication quality figures in a variety of hardcopy formats and interactive environments across platforms. Matplotlib can be used in Python scripts, the Python and IPython shells, the Jupyter notebook, web application servers, and four graphical user interface toolkits. Matplotlib tries to make easy things easy and hard things possible. You can generate plots, histograms, power spectra, bar charts, errorcharts, scatterplots, etc., with just a few lines of code.\n",
    "![Ref: Javatpoint ](https://static.javatpoint.com/tutorial/matplotlib/images/matplotlib-data-visualization2.png)\n",
    "For more infomration: [Matplotlib Webpage](https://matplotlib.org/)\n",
    "\n",
    "#### Malplotlib Object Model\n",
    "\n",
    "![alt text](https://matplotlib.org/_images/anatomy1.png)"
   ]
  },
  {
   "cell_type": "markdown",
   "metadata": {
    "colab_type": "text",
    "id": "Q2EQMEEphhQv"
   },
   "source": [
    "#### Matplotlib State's Machine\n",
    "Matplotlib behaves like a state machine. Any command is applied to the current plotting area. "
   ]
  },
  {
   "cell_type": "code",
   "execution_count": 3,
   "metadata": {
    "colab": {},
    "colab_type": "code",
    "id": "OECaZLqAe07m"
   },
   "outputs": [
    {
     "ename": "ModuleNotFoundError",
     "evalue": "No module named 'matplotlib'",
     "output_type": "error",
     "traceback": [
      "\u001b[0;31m---------------------------------------------------------------------------\u001b[0m",
      "\u001b[0;31mModuleNotFoundError\u001b[0m                       Traceback (most recent call last)",
      "\u001b[0;32m<ipython-input-3-9bcb3b3e16b0>\u001b[0m in \u001b[0;36m<module>\u001b[0;34m\u001b[0m\n\u001b[0;32m----> 1\u001b[0;31m \u001b[0;32mimport\u001b[0m \u001b[0mmatplotlib\u001b[0m\u001b[0;34m.\u001b[0m\u001b[0mpyplot\u001b[0m \u001b[0;32mas\u001b[0m \u001b[0mplt\u001b[0m\u001b[0;34m\u001b[0m\u001b[0;34m\u001b[0m\u001b[0m\n\u001b[0m\u001b[1;32m      2\u001b[0m \u001b[0;32mimport\u001b[0m \u001b[0mnumpy\u001b[0m \u001b[0;32mas\u001b[0m \u001b[0mnp\u001b[0m\u001b[0;34m\u001b[0m\u001b[0;34m\u001b[0m\u001b[0m\n\u001b[1;32m      3\u001b[0m \u001b[0;34m\u001b[0m\u001b[0m\n\u001b[1;32m      4\u001b[0m \u001b[0mt\u001b[0m \u001b[0;34m=\u001b[0m \u001b[0mnp\u001b[0m\u001b[0;34m.\u001b[0m\u001b[0mlinspace\u001b[0m\u001b[0;34m(\u001b[0m\u001b[0;36m0\u001b[0m\u001b[0;34m,\u001b[0m \u001b[0;36m2\u001b[0m\u001b[0;34m*\u001b[0m\u001b[0mnp\u001b[0m\u001b[0;34m.\u001b[0m\u001b[0mpi\u001b[0m\u001b[0;34m,\u001b[0m \u001b[0;36m50\u001b[0m\u001b[0;34m)\u001b[0m\u001b[0;34m\u001b[0m\u001b[0;34m\u001b[0m\u001b[0m\n\u001b[1;32m      5\u001b[0m \u001b[0mx\u001b[0m \u001b[0;34m=\u001b[0m \u001b[0mnp\u001b[0m\u001b[0;34m.\u001b[0m\u001b[0msin\u001b[0m\u001b[0;34m(\u001b[0m\u001b[0mt\u001b[0m\u001b[0;34m)\u001b[0m\u001b[0;34m\u001b[0m\u001b[0;34m\u001b[0m\u001b[0m\n",
      "\u001b[0;31mModuleNotFoundError\u001b[0m: No module named 'matplotlib'"
     ]
    }
   ],
   "source": [
    "import matplotlib.pyplot as plt\n",
    "import numpy as np\n",
    "\n",
    "t = np.linspace(0, 2*np.pi, 50)\n",
    "x = np.sin(t)\n",
    "y = np.cos(t)"
   ]
  },
  {
   "cell_type": "code",
   "execution_count": null,
   "metadata": {
    "colab": {
     "base_uri": "https://localhost:8080/",
     "height": 282
    },
    "colab_type": "code",
    "id": "eo8NGcByiCrg",
    "outputId": "f9d9549d-bd43-4bf2-f152-a210dc19982f"
   },
   "outputs": [],
   "source": [
    "# Now create a figure\n",
    "plt.figure()\n",
    "# and plot x inside it\n",
    "plt.plot(x)"
   ]
  },
  {
   "cell_type": "code",
   "execution_count": null,
   "metadata": {
    "colab": {
     "base_uri": "https://localhost:8080/",
     "height": 298
    },
    "colab_type": "code",
    "id": "_zB4dMJLiNaw",
    "outputId": "04264240-38e3-4de0-cd26-eef7c9bb469c"
   },
   "outputs": [],
   "source": [
    "# Now create a new figure\n",
    "plt.figure()\n",
    "# and plot y inside it...\n",
    "plt.plot(y)\n",
    "# Add a title\n",
    "plt.title(\"Cos\")"
   ]
  },
  {
   "cell_type": "markdown",
   "metadata": {
    "colab_type": "text",
    "id": "EIqiAerCilvv"
   },
   "source": [
    "### Line Plot"
   ]
  },
  {
   "cell_type": "code",
   "execution_count": null,
   "metadata": {
    "colab": {
     "base_uri": "https://localhost:8080/",
     "height": 282
    },
    "colab_type": "code",
    "id": "Ufz8Q830ijqy",
    "outputId": "ad3e5031-0ee3-4659-927d-aa3996109558"
   },
   "outputs": [],
   "source": [
    "x = np.linspace(0, 2*np.pi, 50)\n",
    "y1 = np.sin(x)\n",
    "y2 = np.sin(2*x)\n",
    "plt.figure() # Create figure\n",
    "plt.plot(y1)\n",
    "plt.plot(x, y1)\n",
    "\n",
    "# red dot-dash circle\n",
    "plt.plot(x, y1, 'r')\n",
    "\n",
    "# red marker only circle\n",
    "plt.plot(x, y1, 'r-o')\n",
    "\n",
    "# clear figure then plot 2 curves\n",
    "plt.clf()\n",
    "plt.plot(x, y1, 'g-o', x, y2, 'b-+')\n",
    "plt.legend(['sin(x)','sin(2x)'])\n",
    "\n",
    "\n"
   ]
  },
  {
   "cell_type": "markdown",
   "metadata": {
    "colab_type": "text",
    "id": "tEqnyiLnj-oX"
   },
   "source": [
    "### Scatter Plot \n"
   ]
  },
  {
   "cell_type": "code",
   "execution_count": null,
   "metadata": {
    "colab": {
     "base_uri": "https://localhost:8080/",
     "height": 298
    },
    "colab_type": "code",
    "id": "E4545t4pj8mo",
    "outputId": "695cf805-f510-4db7-e893-c9b7cf0c76d4"
   },
   "outputs": [],
   "source": [
    "N = 50 # no. of points\n",
    "x = np.linspace(0, 10, N)\n",
    "#print(x)\n",
    "from numpy.random import rand\n",
    "e = rand(N)*5.0 # noise\n",
    "y1 = x + e\n",
    "areas = rand(N)*300\n",
    "plt.scatter(x, y1, s=areas)\n",
    "colors = rand(N)\n",
    "plt.scatter(x, y1, s=areas,c=colors)\n",
    "plt.colorbar()\n",
    "plt.title(\"Random scatter\")\n"
   ]
  },
  {
   "cell_type": "markdown",
   "metadata": {
    "colab_type": "text",
    "id": "eYKeyHYglP_r"
   },
   "source": [
    "### Image Plot: Correlation Plot"
   ]
  },
  {
   "cell_type": "code",
   "execution_count": null,
   "metadata": {
    "colab": {
     "base_uri": "https://localhost:8080/",
     "height": 354
    },
    "colab_type": "code",
    "id": "7mhFfKMOlYb0",
    "outputId": "25daa4a7-3738-409f-e7b5-9785aac9dc60"
   },
   "outputs": [],
   "source": [
    "# Create some data\n",
    "e1 = rand(100)\n",
    "e2 = rand(100)*2\n",
    "e3 = rand(100)*50\n",
    "e4 = rand(100)*100\n",
    "corrmatrix = np.corrcoef([e1, e2, e3, e4])\n",
    "print(corrmatrix)\n",
    "# Plot corr matrix as image\n",
    "plt.imshow(corrmatrix, cmap='GnBu')\n",
    "plt.colorbar()"
   ]
  },
  {
   "cell_type": "markdown",
   "metadata": {
    "colab_type": "text",
    "id": "dRmo6yZWmkt_"
   },
   "source": [
    "### Multiple plots using subplot"
   ]
  },
  {
   "cell_type": "code",
   "execution_count": 4,
   "metadata": {
    "colab": {
     "base_uri": "https://localhost:8080/",
     "height": 282
    },
    "colab_type": "code",
    "id": "Ahcz1LKUmvPr",
    "outputId": "6642723f-c84f-4c6b-d59a-67ab61e1a672"
   },
   "outputs": [
    {
     "ename": "NameError",
     "evalue": "name 'np' is not defined",
     "output_type": "error",
     "traceback": [
      "\u001b[0;31m---------------------------------------------------------------------------\u001b[0m",
      "\u001b[0;31mNameError\u001b[0m                                 Traceback (most recent call last)",
      "\u001b[0;32m<ipython-input-4-a13300c288e9>\u001b[0m in \u001b[0;36m<module>\u001b[0;34m\u001b[0m\n\u001b[0;32m----> 1\u001b[0;31m \u001b[0mt\u001b[0m \u001b[0;34m=\u001b[0m \u001b[0mnp\u001b[0m\u001b[0;34m.\u001b[0m\u001b[0mlinspace\u001b[0m\u001b[0;34m(\u001b[0m\u001b[0;36m0\u001b[0m\u001b[0;34m,\u001b[0m \u001b[0;36m2\u001b[0m\u001b[0;34m*\u001b[0m\u001b[0mnp\u001b[0m\u001b[0;34m.\u001b[0m\u001b[0mpi\u001b[0m\u001b[0;34m)\u001b[0m\u001b[0;34m\u001b[0m\u001b[0;34m\u001b[0m\u001b[0m\n\u001b[0m\u001b[1;32m      2\u001b[0m \u001b[0mx\u001b[0m \u001b[0;34m=\u001b[0m \u001b[0mnp\u001b[0m\u001b[0;34m.\u001b[0m\u001b[0msin\u001b[0m\u001b[0;34m(\u001b[0m\u001b[0mt\u001b[0m\u001b[0;34m)\u001b[0m\u001b[0;34m\u001b[0m\u001b[0;34m\u001b[0m\u001b[0m\n\u001b[1;32m      3\u001b[0m \u001b[0my\u001b[0m \u001b[0;34m=\u001b[0m \u001b[0mnp\u001b[0m\u001b[0;34m.\u001b[0m\u001b[0mcos\u001b[0m\u001b[0;34m(\u001b[0m\u001b[0mt\u001b[0m\u001b[0;34m)\u001b[0m\u001b[0;34m\u001b[0m\u001b[0;34m\u001b[0m\u001b[0m\n\u001b[1;32m      4\u001b[0m \u001b[0;31m# To divide the plotting area\u001b[0m\u001b[0;34m\u001b[0m\u001b[0;34m\u001b[0m\u001b[0;34m\u001b[0m\u001b[0m\n\u001b[1;32m      5\u001b[0m \u001b[0mplt\u001b[0m\u001b[0;34m.\u001b[0m\u001b[0msubplot\u001b[0m\u001b[0;34m(\u001b[0m\u001b[0;36m2\u001b[0m\u001b[0;34m,\u001b[0m \u001b[0;36m1\u001b[0m\u001b[0;34m,\u001b[0m \u001b[0;36m1\u001b[0m\u001b[0;34m)\u001b[0m\u001b[0;34m\u001b[0m\u001b[0;34m\u001b[0m\u001b[0m\n",
      "\u001b[0;31mNameError\u001b[0m: name 'np' is not defined"
     ]
    }
   ],
   "source": [
    "t = np.linspace(0, 2*np.pi)\n",
    "x = np.sin(t)\n",
    "y = np.cos(t)\n",
    "# To divide the plotting area\n",
    "plt.subplot(2, 1, 1)\n",
    "plt.plot(x)\n",
    "# Now activate a new plot\n",
    "# area.\n",
    "plt.subplot(2, 1, 2)\n",
    "plt.plot(y)"
   ]
  },
  {
   "cell_type": "markdown",
   "metadata": {
    "colab_type": "text",
    "id": "36ev2RH0nMe2"
   },
   "source": [
    "### Histogram plot"
   ]
  },
  {
   "cell_type": "code",
   "execution_count": null,
   "metadata": {
    "colab": {
     "base_uri": "https://localhost:8080/",
     "height": 350
    },
    "colab_type": "code",
    "id": "lWJfHc4hnK9r",
    "outputId": "94f9d404-076b-4794-d306-09cf403fe7a9"
   },
   "outputs": [],
   "source": [
    "# Create array of data\n",
    "from numpy.random import randint\n",
    "data = randint(10000, size=(10,1000))\n",
    "# Approx norm distribution\n",
    "x = np.sum(data, axis=0)\n",
    "# Set up for stacked plots\n",
    "plt.subplot(2,1,1)\n",
    "plt.hist(x, color='r')\n",
    "# Plot cumulative dist\n",
    "plt.subplot(2,1,2)\n",
    "plt.hist(x, cumulative=True)"
   ]
  },
  {
   "cell_type": "markdown",
   "metadata": {
    "colab_type": "text",
    "id": "He7rHWDrn3GO"
   },
   "source": [
    "### Legend, Title, and Label Axis"
   ]
  },
  {
   "cell_type": "code",
   "execution_count": null,
   "metadata": {
    "colab": {
     "base_uri": "https://localhost:8080/",
     "height": 282
    },
    "colab_type": "code",
    "id": "Nnn50-1Ln9ef",
    "outputId": "6f76d81c-6b38-4482-ef90-19a373dc8fed"
   },
   "outputs": [],
   "source": [
    "# Add labels in plot command.\n",
    "plt.plot(np.sin(t), label='sin')\n",
    "plt.plot(np.cos(t), label='cos')\n",
    "plt.legend()"
   ]
  },
  {
   "cell_type": "code",
   "execution_count": null,
   "metadata": {
    "colab": {
     "base_uri": "https://localhost:8080/",
     "height": 312
    },
    "colab_type": "code",
    "id": "o2QXAZ4zoI9p",
    "outputId": "4d2f25b8-1f3a-4605-c10a-9a12bcae5655"
   },
   "outputs": [],
   "source": [
    "plt.plot(t, np.sin(t))\n",
    "plt.xlabel('radians')\n",
    "# Keywords set text properties.\n",
    "plt.ylabel('amplitude',fontsize='large')\n",
    "plt.title('Sin(x)')"
   ]
  },
  {
   "cell_type": "markdown",
   "metadata": {
    "colab_type": "text",
    "id": "yRdzCbrVojNI"
   },
   "source": [
    "#### Other Visualization Libraries: \n",
    "\n",
    "**Seaborn**:  Better looking, high-level, plot-based on matplotlib [Seaborn](https://seaborn.pydata.org/)\n",
    "\n",
    "**Bokeh**: D3 like visulization in web browser [Bokeh](https://github.com/bokeh/bokeh)\n"
   ]
  },
  {
   "cell_type": "markdown",
   "metadata": {
    "colab_type": "text",
    "id": "DZz7nrjeqBVb"
   },
   "source": [
    "## NumPy Array\n",
    "\n",
    "Numpy is the core library for scientific computing in Python. It provides a high-performance multidimensional array object, and tools for working with these arrays. A numpy array is a grid of values, all of the same type, and is indexed by a tuple of nonnegative integers. The number of dimensions is the rank of the array; the shape of an array is a tuple of integers giving the size of the array along each dimension.\n",
    "\n",
    "The Python core library provided Lists. A list is the Python equivalent of an array, but is resizeable and can contain elements of different types.\n",
    "\n",
    "**Why NumPy array**?\n",
    "\n",
    "Size - Numpy data structures take up less space\n",
    "Performance - they have a need for speed and are faster than lists\n",
    "Functionality - SciPy and NumPy have optimized functions such as linear algebra operations built in.\n",
    "\n",
    "\n",
    "#### Introducing NumPy Array\n",
    "\n",
    "\n"
   ]
  },
  {
   "cell_type": "code",
   "execution_count": null,
   "metadata": {
    "colab": {
     "base_uri": "https://localhost:8080/",
     "height": 34
    },
    "colab_type": "code",
    "id": "APvlYZXzwdbC",
    "outputId": "f458d74c-e210-4533-8649-bcc5be03e8a7"
   },
   "outputs": [],
   "source": [
    "import numpy as np\n",
    "\n",
    "# Simple array creation\n",
    "a = np.array([0, 1, 2, 3, 4, 5])\n",
    "print(a)"
   ]
  },
  {
   "cell_type": "code",
   "execution_count": null,
   "metadata": {
    "colab": {
     "base_uri": "https://localhost:8080/",
     "height": 51
    },
    "colab_type": "code",
    "id": "nNo9IyREwnDR",
    "outputId": "c8071bd8-acee-43d5-a0f6-6d48d61a3cba"
   },
   "outputs": [],
   "source": [
    "# Checking the type and type of elements\n",
    "print(type(a))\n",
    "print(a.dtype)"
   ]
  },
  {
   "cell_type": "code",
   "execution_count": null,
   "metadata": {
    "colab": {
     "base_uri": "https://localhost:8080/",
     "height": 51
    },
    "colab_type": "code",
    "id": "V_uPUZC-xArO",
    "outputId": "f1f82279-cfa1-47f3-d185-63d67d1c32fa"
   },
   "outputs": [],
   "source": [
    "# Check dimensions and shape\n",
    "print(a.ndim)\n",
    "print(a.shape)"
   ]
  },
  {
   "cell_type": "code",
   "execution_count": null,
   "metadata": {
    "colab": {
     "base_uri": "https://localhost:8080/",
     "height": 51
    },
    "colab_type": "code",
    "id": "glOQteJPxL1q",
    "outputId": "2112728e-0373-44fe-8f55-26b3dafbb49c"
   },
   "outputs": [],
   "source": [
    "# Check Bytes per element and Bytes of memory use\n",
    "print(a.itemsize)\n",
    "print(a.nbytes)"
   ]
  },
  {
   "cell_type": "markdown",
   "metadata": {
    "colab_type": "text",
    "id": "O7xzeIWdxy-9"
   },
   "source": [
    "#### Array Operations"
   ]
  },
  {
   "cell_type": "code",
   "execution_count": null,
   "metadata": {
    "colab": {
     "base_uri": "https://localhost:8080/",
     "height": 85
    },
    "colab_type": "code",
    "id": "N_aWdYftx1iL",
    "outputId": "72613dde-7e00-47d3-9321-2e86c994f59f"
   },
   "outputs": [],
   "source": [
    "a = np.array([1, 2, 3, 4])\n",
    "b = np.array([2, 3, 4, 5])\n",
    "\n",
    "print(a*b)\n",
    "print(a**b)\n",
    "print(a+b)\n",
    "print(a/b)"
   ]
  },
  {
   "cell_type": "code",
   "execution_count": null,
   "metadata": {
    "colab": {
     "base_uri": "https://localhost:8080/",
     "height": 68
    },
    "colab_type": "code",
    "id": "_uA3AT0RyjPv",
    "outputId": "111beb24-085f-457d-a4fd-7785db02263d"
   },
   "outputs": [],
   "source": [
    "# Setting array elements\n",
    "print(a[0])\n",
    "a[0] = 10\n",
    "print(a[0])\n",
    "print(a)"
   ]
  },
  {
   "cell_type": "code",
   "execution_count": null,
   "metadata": {
    "colab": {
     "base_uri": "https://localhost:8080/",
     "height": 51
    },
    "colab_type": "code",
    "id": "a94VoeIny30D",
    "outputId": "4fc334e1-ad5f-4339-b5cc-33a4b5e9beff"
   },
   "outputs": [],
   "source": [
    "# Multi-dimensional array\n",
    "\n",
    "a = np.array([[ 0, 1, 2, 3],\n",
    "              [10,11,12,13]])\n",
    "print(a)"
   ]
  },
  {
   "cell_type": "code",
   "execution_count": null,
   "metadata": {
    "colab": {
     "base_uri": "https://localhost:8080/",
     "height": 68
    },
    "colab_type": "code",
    "id": "lmCwIR1jy-1Q",
    "outputId": "93e915c7-0db4-4135-e62e-b540b3397dbc"
   },
   "outputs": [],
   "source": [
    "print(a.shape)\n",
    "print(a.size)\n",
    "print(a.ndim)"
   ]
  },
  {
   "cell_type": "code",
   "execution_count": null,
   "metadata": {
    "colab": {
     "base_uri": "https://localhost:8080/",
     "height": 51
    },
    "colab_type": "code",
    "id": "a-xnWSjVzP0z",
    "outputId": "fafe6b6c-4f83-4150-a5e0-64c699c9adce"
   },
   "outputs": [],
   "source": [
    "# Get and set elements in Multi-dimensional array\n",
    "print(a[1, 3])\n",
    "a[1, 3] = -1\n",
    "print(a[1, 3])"
   ]
  },
  {
   "cell_type": "code",
   "execution_count": null,
   "metadata": {
    "colab": {
     "base_uri": "https://localhost:8080/",
     "height": 34
    },
    "colab_type": "code",
    "id": "ICn13beyzhLW",
    "outputId": "0375bf9d-4e3c-4c4d-c758-a2df6b332b38"
   },
   "outputs": [],
   "source": [
    "print(a[1])"
   ]
  },
  {
   "cell_type": "markdown",
   "metadata": {
    "colab_type": "text",
    "id": "DMk5FPVD1CK0"
   },
   "source": [
    "#### Slicing array\n",
    "\n",
    "![Slicing array](https://scipy-lectures.org/_images/numpy_indexing.png)"
   ]
  },
  {
   "cell_type": "code",
   "execution_count": null,
   "metadata": {
    "colab": {
     "base_uri": "https://localhost:8080/",
     "height": 153
    },
    "colab_type": "code",
    "id": "s_F3padj1Pcp",
    "outputId": "922da8ef-037a-4ceb-a866-53dae77be7cc"
   },
   "outputs": [],
   "source": [
    "# Slicing array\n",
    "print(a)\n",
    "\n",
    "# print all row and 3rd column\n",
    "print(a[:,2])\n",
    "\n",
    "# print first row and all column \n",
    "print(a[0,:])\n",
    "\n",
    "# negative indices work also\n",
    "print(a)\n",
    "print(a[:,:-2])"
   ]
  },
  {
   "cell_type": "markdown",
   "metadata": {
    "colab_type": "text",
    "id": "6X-TO_KR1mjo"
   },
   "source": [
    "## Questions to be done during the lab:\n",
    "\n",
    "1. Create a (4 x 2) integer array and print it's attributes\n",
    "\n",
    "2. Create an array of dimension (1,10) and sort it in ascending and descending order\n",
    "\n",
    "3. Convert an 1D array [1 2 3 4 5 6 7 8 9] to 2D array [[1 2 3], [4 5 6], [7 8 9]]\n",
    "\n",
    "4. Stack two arrays of any size horizontally and vertically\n",
    "\n",
    "5. Create two array of same size and find commom elements\n",
    "\n",
    "6. Create a 2D array of 5 by 5 and find the min and max values from each row and each column\n",
    "\n",
    "7. Create an array of size 100 and  compute the mean, median, standard deviation. \n",
    "\n",
    "8. Normalize a 5x5 random matrix \n",
    "\n",
    "9. Consider an array of dimension (4,4,3), how to mulitply it by an array with dimensions (4,4)?\n",
    "\n"
   ]
  },
  {
   "cell_type": "code",
   "execution_count": 5,
   "metadata": {},
   "outputs": [
    {
     "name": "stdout",
     "output_type": "stream",
     "text": [
      "\n",
      "# Question 1 #\n"
     ]
    },
    {
     "ename": "NameError",
     "evalue": "name 'np' is not defined",
     "output_type": "error",
     "traceback": [
      "\u001b[0;31m---------------------------------------------------------------------------\u001b[0m",
      "\u001b[0;31mNameError\u001b[0m                                 Traceback (most recent call last)",
      "\u001b[0;32m<ipython-input-5-fc3aa9490c28>\u001b[0m in \u001b[0;36m<module>\u001b[0;34m\u001b[0m\n\u001b[1;32m      1\u001b[0m \u001b[0mprint\u001b[0m\u001b[0;34m(\u001b[0m\u001b[0;34m'\\n# Question 1 #'\u001b[0m\u001b[0;34m)\u001b[0m\u001b[0;34m\u001b[0m\u001b[0;34m\u001b[0m\u001b[0m\n\u001b[0;32m----> 2\u001b[0;31m \u001b[0mint_array\u001b[0m \u001b[0;34m=\u001b[0m \u001b[0mnp\u001b[0m\u001b[0;34m.\u001b[0m\u001b[0marray\u001b[0m\u001b[0;34m(\u001b[0m\u001b[0;34m[\u001b[0m\u001b[0;34m[\u001b[0m\u001b[0mrandint\u001b[0m\u001b[0;34m(\u001b[0m\u001b[0;36m100\u001b[0m\u001b[0;34m)\u001b[0m \u001b[0;32mfor\u001b[0m \u001b[0m_\u001b[0m \u001b[0;32min\u001b[0m \u001b[0mrange\u001b[0m\u001b[0;34m(\u001b[0m\u001b[0;36m2\u001b[0m\u001b[0;34m)\u001b[0m\u001b[0;34m]\u001b[0m \u001b[0;32mfor\u001b[0m \u001b[0m_\u001b[0m \u001b[0;32min\u001b[0m \u001b[0mrange\u001b[0m\u001b[0;34m(\u001b[0m\u001b[0;36m4\u001b[0m\u001b[0;34m)\u001b[0m\u001b[0;34m]\u001b[0m\u001b[0;34m)\u001b[0m\u001b[0;34m\u001b[0m\u001b[0;34m\u001b[0m\u001b[0m\n\u001b[0m\u001b[1;32m      3\u001b[0m \u001b[0mprint\u001b[0m\u001b[0;34m(\u001b[0m\u001b[0mint_array\u001b[0m\u001b[0;34m)\u001b[0m\u001b[0;34m\u001b[0m\u001b[0;34m\u001b[0m\u001b[0m\n\u001b[1;32m      4\u001b[0m \u001b[0mprint\u001b[0m\u001b[0;34m(\u001b[0m\u001b[0mint_array\u001b[0m\u001b[0;34m.\u001b[0m\u001b[0mshape\u001b[0m\u001b[0;34m)\u001b[0m\u001b[0;34m\u001b[0m\u001b[0;34m\u001b[0m\u001b[0m\n",
      "\u001b[0;31mNameError\u001b[0m: name 'np' is not defined"
     ]
    }
   ],
   "source": [
    "print('\\n# Question 1 #')\n",
    "int_array = np.array([[randint(100) for _ in range(2)] for _ in range(4)])\n",
    "print(int_array)\n",
    "print(int_array.shape)"
   ]
  },
  {
   "cell_type": "code",
   "execution_count": null,
   "metadata": {},
   "outputs": [],
   "source": []
  }
 ],
 "metadata": {
  "colab": {
   "name": "Lab_1.ipynb",
   "provenance": []
  },
  "kernelspec": {
   "display_name": "Python 3",
   "language": "python",
   "name": "python3"
  },
  "language_info": {
   "codemirror_mode": {
    "name": "ipython",
    "version": 3
   },
   "file_extension": ".py",
   "mimetype": "text/x-python",
   "name": "python",
   "nbconvert_exporter": "python",
   "pygments_lexer": "ipython3",
   "version": "3.7.4"
  }
 },
 "nbformat": 4,
 "nbformat_minor": 1
}
